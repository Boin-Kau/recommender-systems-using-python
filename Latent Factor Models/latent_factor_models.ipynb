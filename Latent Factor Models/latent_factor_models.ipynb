{
  "cells": [
    {
      "cell_type": "markdown",
      "metadata": {
        "id": "view-in-github",
        "colab_type": "text"
      },
      "source": [
        "<a href=\"https://colab.research.google.com/github/Boin-Kau/recommender-systems-using-python/blob/main/latent_factor_models.ipynb\" target=\"_parent\"><img src=\"https://colab.research.google.com/assets/colab-badge.svg\" alt=\"Open In Colab\"/></a>"
      ]
    },
    {
      "cell_type": "markdown",
      "metadata": {
        "id": "Gr3fwjdGfgDH"
      },
      "source": [
        "## Required Modules\n",
        "\n",
        "<br>\n",
        "\n",
        "- matplotlib >= 3.1.1\n",
        "- mplcursors >= 0.5.1\n",
        "    - use command to install(in notebook) : **!pip install mplcursors**\n",
        "- numpy >= 1.21.5\n",
        "- pandas >= 0.25.1\n",
        "- sklearn >= 0.21.3"
      ]
    },
    {
      "cell_type": "markdown",
      "metadata": {
        "id": "iyYCmIurfgDI"
      },
      "source": [
        "## Import Modules"
      ]
    },
    {
      "cell_type": "code",
      "source": [
        "!pip install mplcursors"
      ],
      "metadata": {
        "colab": {
          "base_uri": "https://localhost:8080/"
        },
        "id": "XLp0E1TyoQbS",
        "outputId": "aa02ebc2-b537-44fb-fcfe-b1d550dfc2d3"
      },
      "execution_count": 1,
      "outputs": [
        {
          "output_type": "stream",
          "name": "stdout",
          "text": [
            "Collecting mplcursors\n",
            "  Downloading mplcursors-0.5.1.tar.gz (88 kB)\n",
            "\u001b[?25l\r\u001b[K     |███▊                            | 10 kB 15.5 MB/s eta 0:00:01\r\u001b[K     |███████▍                        | 20 kB 13.6 MB/s eta 0:00:01\r\u001b[K     |███████████▏                    | 30 kB 6.6 MB/s eta 0:00:01\r\u001b[K     |██████████████▉                 | 40 kB 5.9 MB/s eta 0:00:01\r\u001b[K     |██████████████████▋             | 51 kB 4.3 MB/s eta 0:00:01\r\u001b[K     |██████████████████████▎         | 61 kB 5.0 MB/s eta 0:00:01\r\u001b[K     |██████████████████████████      | 71 kB 5.4 MB/s eta 0:00:01\r\u001b[K     |█████████████████████████████▊  | 81 kB 5.7 MB/s eta 0:00:01\r\u001b[K     |████████████████████████████████| 88 kB 2.3 MB/s \n",
            "\u001b[?25hRequirement already satisfied: matplotlib>=3.1 in /usr/local/lib/python3.7/dist-packages (from mplcursors) (3.2.2)\n",
            "Requirement already satisfied: pyparsing!=2.0.4,!=2.1.2,!=2.1.6,>=2.0.1 in /usr/local/lib/python3.7/dist-packages (from matplotlib>=3.1->mplcursors) (3.0.7)\n",
            "Requirement already satisfied: kiwisolver>=1.0.1 in /usr/local/lib/python3.7/dist-packages (from matplotlib>=3.1->mplcursors) (1.4.0)\n",
            "Requirement already satisfied: cycler>=0.10 in /usr/local/lib/python3.7/dist-packages (from matplotlib>=3.1->mplcursors) (0.11.0)\n",
            "Requirement already satisfied: numpy>=1.11 in /usr/local/lib/python3.7/dist-packages (from matplotlib>=3.1->mplcursors) (1.21.5)\n",
            "Requirement already satisfied: python-dateutil>=2.1 in /usr/local/lib/python3.7/dist-packages (from matplotlib>=3.1->mplcursors) (2.8.2)\n",
            "Requirement already satisfied: typing-extensions in /usr/local/lib/python3.7/dist-packages (from kiwisolver>=1.0.1->matplotlib>=3.1->mplcursors) (3.10.0.2)\n",
            "Requirement already satisfied: six>=1.5 in /usr/local/lib/python3.7/dist-packages (from python-dateutil>=2.1->matplotlib>=3.1->mplcursors) (1.15.0)\n",
            "Building wheels for collected packages: mplcursors\n",
            "  Building wheel for mplcursors (setup.py) ... \u001b[?25l\u001b[?25hdone\n",
            "  Created wheel for mplcursors: filename=mplcursors-0.5.1-py3-none-any.whl size=20811 sha256=4bef940d6f0adf5ca204c9509e963bd1817224926f41d6ba42fbb14249068753\n",
            "  Stored in directory: /root/.cache/pip/wheels/ae/cd/13/09fe660e3e9d392c7e9b46f202369cd9c2b8dddfb47d5950ef\n",
            "Successfully built mplcursors\n",
            "Installing collected packages: mplcursors\n",
            "Successfully installed mplcursors-0.5.1\n"
          ]
        }
      ]
    },
    {
      "cell_type": "code",
      "execution_count": 2,
      "metadata": {
        "id": "vp-hmiR0fgDJ"
      },
      "outputs": [],
      "source": [
        "import warnings\n",
        "import numpy as np\n",
        "import pandas as pd\n",
        "import matplotlib.pyplot as plt\n",
        "import mplcursors # Use this is for creating a cursor-interactive plot with \"%matplotlib notebook\"\n",
        "from sklearn.decomposition import NMF # Use this for training Non-negative Matrix Factorization\n",
        "from sklearn.utils.extmath import randomized_svd # Use this for training Singular Value Decomposition\n",
        "from sklearn.manifold import TSNE # Use this for training t-sne manifolding\n",
        "# my import\n",
        "import os \n",
        "\n",
        "plt.style.use('ggplot') # You can also use different style\n",
        "\n",
        "# just for plot checking, use this option\n",
        "# %matplotlib inline\n",
        "\n",
        "# for interactive plot\n",
        "# If you use this option, plot will appear at first-drawn position\n",
        "%matplotlib notebook\n",
        "\n",
        "warnings.filterwarnings('ignore')"
      ]
    },
    {
      "cell_type": "markdown",
      "metadata": {
        "id": "ktavfFiKfgDK"
      },
      "source": [
        "## Data Loading\n",
        "\n",
        "<br>\n",
        "\n",
        "> ### File description : MovieLens-100K\n",
        "- movies.csv : list of movies (9742 movies)\n",
        "- ratings.csv : list of ratings given by users (610 users, 100,836 ratings)"
      ]
    },
    {
      "cell_type": "code",
      "source": [
        "from google.colab import drive\n",
        "drive.mount('/content/drive')"
      ],
      "metadata": {
        "colab": {
          "base_uri": "https://localhost:8080/"
        },
        "id": "Eu275mXFgKi1",
        "outputId": "615a1629-3042-4466-8695-502816f1e800"
      },
      "execution_count": 3,
      "outputs": [
        {
          "output_type": "stream",
          "name": "stdout",
          "text": [
            "Mounted at /content/drive\n"
          ]
        }
      ]
    },
    {
      "cell_type": "code",
      "execution_count": 4,
      "metadata": {
        "id": "gNjzN8QWfgDK"
      },
      "outputs": [],
      "source": [
        "dir = 'drive/MyDrive/RecoSys/Data/MovieLens100K/'\n",
        "# dir = './Data/MovieLens100K/'\n",
        "df_ratings = pd.read_csv(dir + 'ratings.csv', usecols=['userId', 'movieId', 'rating'])\n",
        "df_movies = pd.read_csv(dir + 'movies.csv', usecols=['movieId', 'title', 'genres']) # for title-matching"
      ]
    },
    {
      "cell_type": "markdown",
      "metadata": {
        "id": "vFFUNY1bfgDK"
      },
      "source": [
        "## Simple EDA (Exploratory Data Analysis)\n",
        "\n",
        "<br>\n",
        "\n",
        "- Before starting, let's perform simple data analysis on the given dataset"
      ]
    },
    {
      "cell_type": "code",
      "execution_count": 5,
      "metadata": {
        "id": "dh9V7tAnfgDL",
        "colab": {
          "base_uri": "https://localhost:8080/"
        },
        "outputId": "c408bca9-a274-489e-ed4a-fab5ce09def8"
      },
      "outputs": [
        {
          "output_type": "execute_result",
          "data": {
            "text/plain": [
              "(610, 9724)"
            ]
          },
          "metadata": {},
          "execution_count": 5
        }
      ],
      "source": [
        "# 고유 사용자, 고유 영화 갯수 확인\n",
        "n_users = len(df_ratings['userId'].unique())\n",
        "n_movies = len(df_ratings['movieId'].unique())\n",
        "\n",
        "n_users, n_movies # 610 명의 사용자가 9724개의 영화에 평점을 매김을 확인"
      ]
    },
    {
      "cell_type": "code",
      "execution_count": 6,
      "metadata": {
        "id": "nrLQqmM2fgDL",
        "colab": {
          "base_uri": "https://localhost:8080/"
        },
        "outputId": "01f7efba-4384-406e-8bb2-2d90cdb5ab86"
      },
      "outputs": [
        {
          "output_type": "execute_result",
          "data": {
            "text/plain": [
              "9742"
            ]
          },
          "metadata": {},
          "execution_count": 6
        }
      ],
      "source": [
        "len(df_movies) # len(df_movies) - n_movies 만큼의 평점이 매겨지지 않은 영화가 존재"
      ]
    },
    {
      "cell_type": "code",
      "execution_count": 8,
      "metadata": {
        "id": "hEpFmwR4fgDM",
        "colab": {
          "base_uri": "https://localhost:8080/"
        },
        "outputId": "035d6923-1dd1-40e8-9f6e-234491acd76d"
      },
      "outputs": [
        {
          "output_type": "execute_result",
          "data": {
            "text/plain": [
              "count    100836.000000\n",
              "mean          3.501557\n",
              "std           1.042529\n",
              "min           0.500000\n",
              "25%           3.000000\n",
              "50%           3.500000\n",
              "75%           4.000000\n",
              "max           5.000000\n",
              "Name: rating, dtype: float64"
            ]
          },
          "metadata": {},
          "execution_count": 8
        }
      ],
      "source": [
        "# ratings의 기술통계량 확인\n",
        "df_ratings['rating'].describe()"
      ]
    },
    {
      "cell_type": "code",
      "source": [
        "# 데이터 탐색\n",
        "df_ratings.head()"
      ],
      "metadata": {
        "colab": {
          "base_uri": "https://localhost:8080/",
          "height": 206
        },
        "id": "V_Nqe71_ffzE",
        "outputId": "1b305c1f-bc77-4a58-8875-b8ab780f077c"
      },
      "execution_count": 9,
      "outputs": [
        {
          "output_type": "execute_result",
          "data": {
            "text/plain": [
              "   userId  movieId  rating\n",
              "0       1        1     4.0\n",
              "1       1        3     4.0\n",
              "2       1        6     4.0\n",
              "3       1       47     5.0\n",
              "4       1       50     5.0"
            ],
            "text/html": [
              "\n",
              "  <div id=\"df-01ddc6fa-6f2f-4751-81d0-13cfab55abf0\">\n",
              "    <div class=\"colab-df-container\">\n",
              "      <div>\n",
              "<style scoped>\n",
              "    .dataframe tbody tr th:only-of-type {\n",
              "        vertical-align: middle;\n",
              "    }\n",
              "\n",
              "    .dataframe tbody tr th {\n",
              "        vertical-align: top;\n",
              "    }\n",
              "\n",
              "    .dataframe thead th {\n",
              "        text-align: right;\n",
              "    }\n",
              "</style>\n",
              "<table border=\"1\" class=\"dataframe\">\n",
              "  <thead>\n",
              "    <tr style=\"text-align: right;\">\n",
              "      <th></th>\n",
              "      <th>userId</th>\n",
              "      <th>movieId</th>\n",
              "      <th>rating</th>\n",
              "    </tr>\n",
              "  </thead>\n",
              "  <tbody>\n",
              "    <tr>\n",
              "      <th>0</th>\n",
              "      <td>1</td>\n",
              "      <td>1</td>\n",
              "      <td>4.0</td>\n",
              "    </tr>\n",
              "    <tr>\n",
              "      <th>1</th>\n",
              "      <td>1</td>\n",
              "      <td>3</td>\n",
              "      <td>4.0</td>\n",
              "    </tr>\n",
              "    <tr>\n",
              "      <th>2</th>\n",
              "      <td>1</td>\n",
              "      <td>6</td>\n",
              "      <td>4.0</td>\n",
              "    </tr>\n",
              "    <tr>\n",
              "      <th>3</th>\n",
              "      <td>1</td>\n",
              "      <td>47</td>\n",
              "      <td>5.0</td>\n",
              "    </tr>\n",
              "    <tr>\n",
              "      <th>4</th>\n",
              "      <td>1</td>\n",
              "      <td>50</td>\n",
              "      <td>5.0</td>\n",
              "    </tr>\n",
              "  </tbody>\n",
              "</table>\n",
              "</div>\n",
              "      <button class=\"colab-df-convert\" onclick=\"convertToInteractive('df-01ddc6fa-6f2f-4751-81d0-13cfab55abf0')\"\n",
              "              title=\"Convert this dataframe to an interactive table.\"\n",
              "              style=\"display:none;\">\n",
              "        \n",
              "  <svg xmlns=\"http://www.w3.org/2000/svg\" height=\"24px\"viewBox=\"0 0 24 24\"\n",
              "       width=\"24px\">\n",
              "    <path d=\"M0 0h24v24H0V0z\" fill=\"none\"/>\n",
              "    <path d=\"M18.56 5.44l.94 2.06.94-2.06 2.06-.94-2.06-.94-.94-2.06-.94 2.06-2.06.94zm-11 1L8.5 8.5l.94-2.06 2.06-.94-2.06-.94L8.5 2.5l-.94 2.06-2.06.94zm10 10l.94 2.06.94-2.06 2.06-.94-2.06-.94-.94-2.06-.94 2.06-2.06.94z\"/><path d=\"M17.41 7.96l-1.37-1.37c-.4-.4-.92-.59-1.43-.59-.52 0-1.04.2-1.43.59L10.3 9.45l-7.72 7.72c-.78.78-.78 2.05 0 2.83L4 21.41c.39.39.9.59 1.41.59.51 0 1.02-.2 1.41-.59l7.78-7.78 2.81-2.81c.8-.78.8-2.07 0-2.86zM5.41 20L4 18.59l7.72-7.72 1.47 1.35L5.41 20z\"/>\n",
              "  </svg>\n",
              "      </button>\n",
              "      \n",
              "  <style>\n",
              "    .colab-df-container {\n",
              "      display:flex;\n",
              "      flex-wrap:wrap;\n",
              "      gap: 12px;\n",
              "    }\n",
              "\n",
              "    .colab-df-convert {\n",
              "      background-color: #E8F0FE;\n",
              "      border: none;\n",
              "      border-radius: 50%;\n",
              "      cursor: pointer;\n",
              "      display: none;\n",
              "      fill: #1967D2;\n",
              "      height: 32px;\n",
              "      padding: 0 0 0 0;\n",
              "      width: 32px;\n",
              "    }\n",
              "\n",
              "    .colab-df-convert:hover {\n",
              "      background-color: #E2EBFA;\n",
              "      box-shadow: 0px 1px 2px rgba(60, 64, 67, 0.3), 0px 1px 3px 1px rgba(60, 64, 67, 0.15);\n",
              "      fill: #174EA6;\n",
              "    }\n",
              "\n",
              "    [theme=dark] .colab-df-convert {\n",
              "      background-color: #3B4455;\n",
              "      fill: #D2E3FC;\n",
              "    }\n",
              "\n",
              "    [theme=dark] .colab-df-convert:hover {\n",
              "      background-color: #434B5C;\n",
              "      box-shadow: 0px 1px 3px 1px rgba(0, 0, 0, 0.15);\n",
              "      filter: drop-shadow(0px 1px 2px rgba(0, 0, 0, 0.3));\n",
              "      fill: #FFFFFF;\n",
              "    }\n",
              "  </style>\n",
              "\n",
              "      <script>\n",
              "        const buttonEl =\n",
              "          document.querySelector('#df-01ddc6fa-6f2f-4751-81d0-13cfab55abf0 button.colab-df-convert');\n",
              "        buttonEl.style.display =\n",
              "          google.colab.kernel.accessAllowed ? 'block' : 'none';\n",
              "\n",
              "        async function convertToInteractive(key) {\n",
              "          const element = document.querySelector('#df-01ddc6fa-6f2f-4751-81d0-13cfab55abf0');\n",
              "          const dataTable =\n",
              "            await google.colab.kernel.invokeFunction('convertToInteractive',\n",
              "                                                     [key], {});\n",
              "          if (!dataTable) return;\n",
              "\n",
              "          const docLinkHtml = 'Like what you see? Visit the ' +\n",
              "            '<a target=\"_blank\" href=https://colab.research.google.com/notebooks/data_table.ipynb>data table notebook</a>'\n",
              "            + ' to learn more about interactive tables.';\n",
              "          element.innerHTML = '';\n",
              "          dataTable['output_type'] = 'display_data';\n",
              "          await google.colab.output.renderOutput(dataTable, element);\n",
              "          const docLink = document.createElement('div');\n",
              "          docLink.innerHTML = docLinkHtml;\n",
              "          element.appendChild(docLink);\n",
              "        }\n",
              "      </script>\n",
              "    </div>\n",
              "  </div>\n",
              "  "
            ]
          },
          "metadata": {},
          "execution_count": 9
        }
      ]
    },
    {
      "cell_type": "markdown",
      "metadata": {
        "id": "uN_08h4mfgDM"
      },
      "source": [
        "## Generate Utility Matrix $A$\n",
        "\n",
        "<br>\n",
        "\n",
        "> ### Problem 1 (2 points)\n",
        "1. Generate an utility matrix $A$ by using **df_ratings** (store rating values with unique 'movieId' and 'userId')\n",
        "2. Within a matrix $A$, replace NaN values (unknown ratings) with 0 (zero value)\n",
        "3. Convert the utility matrix $A$ to **numpy array**"
      ]
    },
    {
      "cell_type": "code",
      "execution_count": 17,
      "metadata": {
        "id": "czVIHerCfgDM",
        "colab": {
          "base_uri": "https://localhost:8080/"
        },
        "outputId": "fbe7604b-5715-428b-8a6f-d4dfba743d12"
      },
      "outputs": [
        {
          "output_type": "stream",
          "name": "stdout",
          "text": [
            "(9724, 610)\n"
          ]
        }
      ],
      "source": [
        "\"\"\"\n",
        "# Utility Matrix의 형태는 (n_movies, n_users)\n",
        "# 즉 Utility Matrix 의 각 행은 movie, 각 열은 user를 나타냄\n",
        "\"\"\"\n",
        "# your code here\n",
        "## Utility Matrix 만들기\n",
        "A = df_ratings.pivot(index='movieId',\n",
        "                     columns='userId',\n",
        "                     values='rating')\n",
        "## NaN 값을 0으로 대체하기\n",
        "A = A.fillna(0)\n",
        "\n",
        "## Utility Matrix를 Numpy array로 변환하기\n",
        "A = A.to_numpy()\n",
        "\n",
        "# 올바른 형태로 utility matrix가 생성되었는지 확인\n",
        "print(A.shape)"
      ]
    },
    {
      "cell_type": "markdown",
      "metadata": {
        "id": "1rhsou5PfgDN"
      },
      "source": [
        "## Training SVD Model\n",
        "\n",
        "<br>\n",
        "\n",
        "> ### Problem 2 (2 points)\n",
        "1. Decompose utility matrix $A$ into three matrices $U$, $\\sum$, and $V^T$ by training SVD model (you can use  randomized_svd() function provided from scikit-learn)\n",
        "    - Refer to: https://scikit-learn.org/stable/modules/generated/sklearn.utils.extmath.randomized_svd.html\n",
        "\n",
        "2. After training SVD is completed, perform dot-product of $U$, $\\sum$, and $V^T$ to obtain the matrix $A_{approx_{svd}}$ that approximates matrix $A$\n",
        "    - Note that, **$\\sum$ should be a diagonal matrix**, not a vector\n",
        "    - Before computing $A_{approx_{svd}}$, you will need to transform $\\sum$ generated from randomized_svd() to a diagonal matrix"
      ]
    },
    {
      "cell_type": "code",
      "execution_count": null,
      "metadata": {
        "id": "P_3Oki9CfgDN"
      },
      "outputs": [],
      "source": [
        "\"\"\"\n",
        "# sklearn에서 제공하는 randomized_svd()를 통해 SVD 모델을 학습하여 U, Sigma, VT를 구함\n",
        "# k는 분해될 행렬들의 feature/factor 의 크기를 정하는 hyperparameter\n",
        "# 여러 인자를 조정해서 randomized_svd()를 실행 가능 (자세한 내용은 위의 참고 사이트를 참고)\n",
        "# 분해된 행렬 U, Sigma, VT의 형태는 (n_movies, k), (k,) (k, n_users)\n",
        "# 분해된 행렬들을 이용하여 dot-product 연산을 수행하면 원래의 utility matrix와 같은 (n_movies, n_users) 형태의 근사 행렬을 얻을 수 있음\n",
        "\"\"\"\n",
        "\n",
        "# your code here\n",
        "\n",
        "k =\n",
        "U, Sigma, VT = \n",
        "\n",
        "# 분해된 행렬이 올바른 형태로 생성되었는지 확인\n",
        "print(U.shape, Sigma.shape, VT.shape)\n",
        "\n",
        "A_approx_svd =\n",
        "\n",
        "# 근사 행렬이 올바른 형태로 생성되었는지 확인\n",
        "print(A_approx_svd.shape)"
      ]
    },
    {
      "cell_type": "markdown",
      "metadata": {
        "id": "NlIh3lPHfgDN"
      },
      "source": [
        "## Training NMF Model\n",
        "\n",
        "<br>\n",
        "\n",
        "> ### Problem 3 (2 points)\n",
        "1. Decompose utility matrix $A$ into two matrices $W$ and $H$ by training NMF model (using NMF()).\n",
        "    - Refer to: https://scikit-learn.org/stable/modules/generated/sklearn.decomposition.NMF.html#sklearn.decomposition.NMF\n",
        "\n",
        "2. After training NMF, perform dot-product of $W$ and $H$ to obtain the matrix $A_{approx_{nmf}}$ that approximates matrix $A$"
      ]
    },
    {
      "cell_type": "code",
      "execution_count": null,
      "metadata": {
        "id": "EbJhiu-gfgDN"
      },
      "outputs": [],
      "source": [
        "\"\"\"\n",
        "# sklearn에서 제공하는 NMF()를 통해 NMF 모델을 학습하여 W, H를 구함\n",
        "# SVD와 마찬가지로, k는 분해될 행렬들의 feature/factor 의 크기를 정하는 hyperparameter\n",
        "# 여러 인자를 조정해서 NMF() 모델을 생성 (자세한 내용은 위의 참고 사이트를 참고)\n",
        "# 분해된 행렬 W와 H는 .fit(data)를 실행한 후에 구할수 있으며, W와 H의 형태는 (n_movies, k), (k, n_users)\n",
        "# 분해된 행렬들을 이용하여 dot-product 연산을 수행하면 원래의 utility matrix와 같은 (n_movies, n_users) 형태의 근사 행렬을 구할 수 있음\n",
        "\"\"\"\n",
        "\n",
        "# your code here\n",
        "\n",
        "k = \n",
        "model_nmf = \n",
        "W = \n",
        "H = \n",
        "\n",
        "# 분해된 행렬이 올바른 형태로 생성되었는지 확인\n",
        "print(W.shape, H.shape)\n",
        "\n",
        "A_approx_nmf = \n",
        "\n",
        "# 근사 행렬이 올바른 형태로 생성되었는지 확인\n",
        "print(A_approx_nmf.shape)"
      ]
    },
    {
      "cell_type": "markdown",
      "metadata": {
        "id": "vvhSuNZ_fgDN"
      },
      "source": [
        "## Compute loss by implementing a custom function\n",
        "\n",
        "> ### Problem 4 (2 points)\n",
        "1. Implement **compute_error(actual, prediction)** function that takes matrices 'actual' and 'prediction' as input parameters.\n",
        "    1. Ignore zero values in the actual maxtrix\n",
        "    2. Compute SSE and RMSE\n",
        "    3. Return SSE and RMSE\n",
        "\n",
        "<br>\n",
        "\n",
        "2. Implement **compute_error_all(actual, prediction)** function that takes matrices 'actual' and 'prediction' as input parameters.\n",
        "    1. Do not ignore zero values in the actual matrix (compute all values)\n",
        "    2. Compute SSE and RMSE\n",
        "    3. Return SSE and RMSE"
      ]
    },
    {
      "cell_type": "code",
      "execution_count": null,
      "metadata": {
        "id": "juoaG-n3fgDO"
      },
      "outputs": [],
      "source": [
        "\"\"\"\n",
        "# 실제 utility matrix A와 SVD 를 통해 생성된 행렬 A_approx_svd 간의 오차를 계산\n",
        "# 실제 utility matrix A와 NMF 를 통해 생성된 행렬 A_approx_nmf 간의 오차를 계산\n",
        "# 오차 값을 계산하기 위해 함수 compute_error(actual, prediction)와 compute_error_all(actual, prediction)를 구현\n",
        "# 강의시간에 배운 수식을 통해 함수 구현\n",
        "\"\"\"\n",
        "\n",
        "# your code here\n",
        "\n",
        "def compute_error(actual, prediction):\n",
        "    # 매개변수로 입력받은 actual 행렬 안의 0값을 갖는 원소들은 오차 계산에서 제외합니다.\n",
        "    prediction = \n",
        "    actual = \n",
        "    \n",
        "    sse = \n",
        "    rmse = \n",
        "    \n",
        "    return sse, rmse\n",
        "\n",
        "def compute_error_all(actual, prediction):\n",
        "    # actual 행렬 안의 0값을 갖는 원소들도 포함해서 오차를 계산합니다.\n",
        "    sse = \n",
        "    rmse = \n",
        "    \n",
        "    return sse, rmse"
      ]
    },
    {
      "cell_type": "code",
      "execution_count": null,
      "metadata": {
        "id": "bRGxcFbvfgDO"
      },
      "outputs": [],
      "source": [
        "print(f\"SVD Error(ignoring zero values): SSE = {compute_error(A, A_approx_svd)[0]}, RMSE = {compute_error(A, A_approx_svd)[1]}\")\n",
        "print(f\"NMF Error(ignoring zero values): SSE = {compute_error(A, A_approx_nmf)[0]}, RMSE = {compute_error(A, A_approx_nmf)[1]}\")\n",
        "\n",
        "print('\\n')\n",
        "\n",
        "print(f\"SVD Error(including all zero values): SSE = {compute_error_all(A, A_approx_svd)[0]}, RMSE = {compute_error_all(A, A_approx_svd)[1]}\")\n",
        "print(f\"NMF Error(including all zero values): SSE = {compute_error_all(A, A_approx_nmf)[0]}, RMSE = {compute_error_all(A, A_approx_nmf)[1]}\")"
      ]
    },
    {
      "cell_type": "markdown",
      "metadata": {
        "id": "7mzqBv25fgDO"
      },
      "source": [
        "## Predict missing (unknown) values in utility matrix $A$ for a specific user\n",
        "\n",
        "\n",
        "> ### Problem 5 (2 points)\n",
        "\n",
        "- 실제 평점과 예측 평점을 확인할 수 있는 dataframe 생성을 위해 makePredictions(actual, pred, user) 함수를 정의\n",
        "- makePredictions() 함수는 user(사용자 번호, user index)를 통해 actual, pred에서 rated movies(seen movies), non-rated movies(unseen movies)를 추출\n",
        "- 그 다음 앞서 정의했던 df_movies와 추출한 2개의 dataframe을 concat 해줄 것\n",
        "- column mismatching이 일어날 수 있는데, 우선 dataframe을 모든 column과 concat한 후 불필요한 'movieId' column을 drop 해줄 것\n",
        "- 이어서 실제로 본 영화 목록을 rated_movies로 정의하고, rating을 기준으로 내림차순 정렬 수행\n",
        "- 마찬가지로 평점이 부여되지 않은 영화들(평점을 예측하고자하는 영화들)의 목록을 unrated_movies로 정의하고, dataframe의 index를 기준으로 오름차순 정렬 수행\n",
        "\n",
        "- dataframe의 앞, 뒤를 보는 함수는 .head(), .tail()를 사용할 수 있지만, 중간을 볼 수 있는 함수는 존재하지 않음\n",
        "- 따라서, 함수 findMiddle(dataframe)을 정의하고, 이 함수는 indexing을 통해 dataframe의 중간 위치를 보여줌\n",
        "- findMiddle()의 return은 dataframe의 중간 10개 부분"
      ]
    },
    {
      "cell_type": "code",
      "execution_count": null,
      "metadata": {
        "id": "f3BHpu0TfgDO"
      },
      "outputs": [],
      "source": [
        "# your code here\n",
        "\n",
        "def makePredictions(actual, pred, user):\n",
        "    # rated_movies, unrated_movies 생성을 하기 위한 사전작업 dataframe을 정의할 수 있습니다. (약 4~5줄)\n",
        "    \n",
        "    # 실제로 본 영화 목록 (평점이 부여된 영화 목록)\n",
        "    rated_movies =\n",
        "    \n",
        "    \n",
        "    # 예측할 영화 목록 (평점이 부여되지 않은 영화 목록)\n",
        "    unrated_movies =\n",
        "    \n",
        "    \n",
        "    return rated_movies, unrated_movies\n",
        "\n",
        "\n",
        "def findMiddle(dataframe):\n",
        "    # dataframe의 중간 부분을 반환하는 함수입니다.\n",
        "    # return은 dataframe의 중간 10개 부분들 입니다. (dataframe 형식)\n",
        "    \n",
        "    "
      ]
    },
    {
      "cell_type": "code",
      "execution_count": null,
      "metadata": {
        "id": "8fvJBo1dfgDP"
      },
      "outputs": [],
      "source": [
        "\"\"\"\n",
        "# 임의의 사용자를 1명 선정하고, 앞서 작성한 함수에 svd, nmf의 근사 행렬을 인자로 전달\n",
        "\"\"\"\n",
        "\n",
        "# your code here\n",
        "\n",
        "# 임의의 사용자 (정수)를 선택\n",
        "userNumber = 10\n",
        "\n",
        "prediction_with_rated_svd, prediction_with_unrated_svd = makePredictions(A, A_approx_svd, userNumber) # 실제 Utility Matrix와 svd를 통해 근사한 행렬 간의 비교\n",
        "prediction_with_rated_nmf, prediction_with_unrated_nmf = makePredictions(A, A_approx_nmf, userNumber) # 실제 Utility Matrix와 nmf를 통해 근사한 행렬 간의 비교"
      ]
    },
    {
      "cell_type": "code",
      "execution_count": null,
      "metadata": {
        "id": "YH2yPsFzfgDP"
      },
      "outputs": [],
      "source": [
        "prediction_with_rated_svd.head(10)"
      ]
    },
    {
      "cell_type": "code",
      "execution_count": null,
      "metadata": {
        "id": "Mtz8cidkfgDP"
      },
      "outputs": [],
      "source": [
        "prediction_with_rated_nmf.head(10)"
      ]
    },
    {
      "cell_type": "code",
      "execution_count": null,
      "metadata": {
        "id": "dsnWFHTxfgDP"
      },
      "outputs": [],
      "source": [
        "prediction_with_unrated_svd.head(10)"
      ]
    },
    {
      "cell_type": "code",
      "execution_count": null,
      "metadata": {
        "id": "cXxmopUrfgDP"
      },
      "outputs": [],
      "source": [
        "prediction_with_unrated_nmf.head(10)"
      ]
    },
    {
      "cell_type": "code",
      "execution_count": null,
      "metadata": {
        "id": "5-dcyJQbfgDP"
      },
      "outputs": [],
      "source": [
        "prediction_with_unrated_svd.tail(10)"
      ]
    },
    {
      "cell_type": "code",
      "execution_count": null,
      "metadata": {
        "id": "SPD8H7tPfgDP"
      },
      "outputs": [],
      "source": [
        "prediction_with_unrated_nmf.tail(10)"
      ]
    },
    {
      "cell_type": "code",
      "execution_count": null,
      "metadata": {
        "id": "88B_F2y7fgDP"
      },
      "outputs": [],
      "source": [
        "findMiddle(prediction_with_unrated_svd)"
      ]
    },
    {
      "cell_type": "code",
      "execution_count": null,
      "metadata": {
        "id": "1ULolOLXfgDP"
      },
      "outputs": [],
      "source": [
        "findMiddle(prediction_with_unrated_nmf)"
      ]
    },
    {
      "cell_type": "markdown",
      "metadata": {
        "id": "rhpMPOylfgDP"
      },
      "source": [
        "## Visualize movie embeddings using T-SNE\n",
        "\n",
        "\n",
        "> ### Extra Credit (2 points)\n",
        "\n",
        "- NMF에서 분해되어 나온 행렬 W는 movie에 대한 잠재 표현(latent representation)을 갖고 있음\n",
        "    - 마찬가지로, SVD에서 분해되어 나온 행렬 U도 movie에 대한 잠재 표현을 가짐\n",
        "- 잠재 공간에서 실제 영화들이 NMF를 통해 어떻게 임베딩 되었는지 2차원 상으로 변환해 확인할 수 있으며, 대표적인 방법으로 t-sne을 사용할 수 있음\n",
        "- 여러 인자를 조정해서 TSNE() 모델을 생성 가능 (자세한 내용은 공식 아래 사이트 참고)\n",
        "    - t-sne 참고 사이트: https://scikit-learn.org/stable/modules/generated/sklearn.manifold.TSNE.html\n",
        "    - t-sne 학습 과정에 시간이 다소 소요될 수 있음\n",
        "- t-sne에서 fit()된 결과를 W_embedded에 저장\n",
        "- W_embedded.embedding_ 으로 변환된 임베딩 결과물을 확인"
      ]
    },
    {
      "cell_type": "code",
      "execution_count": null,
      "metadata": {
        "id": "EaHv55vwfgDP"
      },
      "outputs": [],
      "source": [
        "# your code here\n",
        "\n",
        "model_tsne = \n",
        "W_embedded = \n",
        "\n",
        "# 실제 2차원으로 변환되었는지 확인\n",
        "# 변환된 결과는 (n_movies, 2)의 형태\n",
        "print(W_embedded.embedding_.shape)"
      ]
    },
    {
      "cell_type": "markdown",
      "metadata": {
        "id": "Q5Pqs4StfgDP"
      },
      "source": [
        "- Plot하기 위해 각 영화 임베딩과 movie dataframe(df_movies)을 결합\n",
        "- 하지만 위 EDA에서 알 수 있듯이, movie.csv(df_movies)엔 사용자들이 평점을 매기지 않은 영화들이 존재함\n",
        "- 따라서, 임베딩과 각 영화의 index를 맞추기 위한 작업이 필요함\n",
        "\n",
        "- 먼저, numpy array로 변환 안된 (즉 dataframe 형태인) Utility matrix를 load하고, index들을 list로 추출\n",
        "- df_movies에서 'movieId'가 추출한 list에 있는 경우만을 추출 (그러면 이제 df_movies엔 평점이 매겨진 영화들만이 남게 됨)\n",
        "\n",
        "- (주의! 이때 reset_index(drop=True) 옵션을 사용해줘야 임베딩과 df_movies를 올바르게 결합할 수 있음)\n",
        "- (그렇지 않으면 index-mismatching이 발생해 NaN값이 생성됨)\n",
        "\n",
        "- 추출된 내용을 movie_with_embedding에 대입\n",
        "- movie_with_embedding의 각 끝 열에 앞서 구한 임베딩을 열로 추가\n",
        "- embedding은 (n_movies, 2)의 형태이므로, 각 column을 1개씩 'tsne1', 'tsne2'로써 movie_with_embedding의 column으로 추가\n",
        "- 삽입 시, 형태를 맞추기 위해선 .reshape() method가 필요함"
      ]
    },
    {
      "cell_type": "code",
      "execution_count": null,
      "metadata": {
        "id": "fuRBo6f7fgDQ"
      },
      "outputs": [],
      "source": [
        "# your code here\n",
        "\n",
        "# 앞서 정의헀던 Utility Matrix와 동일한 방법으로 A2를 정의 (numpy array로 변환할 필요 없음)\n",
        "A2 = \n",
        "\n",
        "# allList엔 A2의 index 값(즉, movieId)들을 list로 변환한 내용이 들어있음\n",
        "allList =\n",
        "\n",
        "# movie_with_embedding은 df_movies에서 allList와 일치하는 부분만을 가지게 됨\n",
        "# movie_with_embedding에 'tsne1', 'tsne2' column을 추가 (추가하는 내용은 각각 임베딩의 첫번째 column, 두번째 column)\n",
        "movie_with_embedding = \n",
        "movie_with_embedding['tsne1'] = \n",
        "movie_with_embedding['tsne2'] = "
      ]
    },
    {
      "cell_type": "code",
      "execution_count": null,
      "metadata": {
        "id": "-xbtv8fyfgDQ"
      },
      "outputs": [],
      "source": [
        "# 최종적으로 Plotting을 위해 생성한 dataframe이 어떤 모습으로 생겼는지 확인\n",
        "# 이때, dataframe에 NaN값이 있어서는 안됨\n",
        "movie_with_embedding"
      ]
    },
    {
      "cell_type": "markdown",
      "metadata": {
        "id": "rCtHrqP3fgDQ"
      },
      "source": [
        "- tsne1, tsne2를 통해 scatter plot을 그릴 것\n",
        "- 'mplcursors'를 통해 각 point마다 확인하고 싶은 정보를 labelling 해줄 것\n",
        "- 이 기능을 사용하게 되면 point마다 text를 plot해줄 필요가 없고, 마우스 커서 클릭으로 point의 정보를 볼 수 있음\n",
        "- 상단 예시 코드에서 YOUR_ANNOTATION_LIST를 적절히 선택해 각 point마다의 제목 또는 장르를 확인할 수 있음\n",
        "- 이 함수를 사용하기 위해서는 '%matplotlib notebook' 이 필요함\n",
        "\n",
        "```python\n",
        "mplcursors.cursor(multiple = True).connect(\n",
        "    \"add\", lambda sel: sel.annotation.set_text(\n",
        "          YOUR_ANNOTATION_LIST[sel.target.index]\n",
        "))\n",
        "```"
      ]
    },
    {
      "cell_type": "code",
      "execution_count": null,
      "metadata": {
        "id": "4ml3uwQhfgDQ"
      },
      "outputs": [],
      "source": [
        "plt.rcParams['figure.figsize'] = [10, 10] # you can change size for your style\n",
        "plt.xlim(movie_with_embedding['tsne1'].min(), movie_with_embedding['tsne1'].max()) # 축 범위 조정\n",
        "plt.ylim(movie_with_embedding['tsne2'].min(), movie_with_embedding['tsne2'].max()) # 축 범위 조정\n",
        "\n",
        "# your code here\n",
        "\n",
        "# Scatter plot을 그리기\n",
        "\n",
        "\n",
        "# 위의 mplcursors 코드를 이용해 각 point마다 labelling을 할 수 있습니다.\n",
        "# YOUR_ANNOTATION_LIST는 영화 제목이 되어도 좋고, 영화 장르가 되어도 좋습니다.\n",
        "# (직관성을 위해 '영화장르'로 labelling 하는 것을 추천합니다.)\n",
        "\n",
        "plt.title('t-sne result (visualization of movie embeddings)')\n",
        "plt.show()"
      ]
    }
  ],
  "metadata": {
    "kernelspec": {
      "display_name": "Python 3",
      "language": "python",
      "name": "python3"
    },
    "language_info": {
      "codemirror_mode": {
        "name": "ipython",
        "version": 3
      },
      "file_extension": ".py",
      "mimetype": "text/x-python",
      "name": "python",
      "nbconvert_exporter": "python",
      "pygments_lexer": "ipython3",
      "version": "3.8.8"
    },
    "colab": {
      "name": "latent_factor_models.ipynb",
      "provenance": [],
      "include_colab_link": true
    }
  },
  "nbformat": 4,
  "nbformat_minor": 0
}