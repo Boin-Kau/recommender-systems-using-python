{
  "nbformat": 4,
  "nbformat_minor": 0,
  "metadata": {
    "colab": {
      "name": "group-recommender-systems.ipynb",
      "provenance": [],
      "mount_file_id": "11ztBe9KCoMzlDpKZNDPv4V2-H-8n88RE",
      "authorship_tag": "ABX9TyOvpPYCCxg+Nj/W1ysqx8vQ",
      "include_colab_link": true
    },
    "kernelspec": {
      "name": "python3",
      "display_name": "Python 3"
    },
    "language_info": {
      "name": "python"
    }
  },
  "cells": [
    {
      "cell_type": "markdown",
      "metadata": {
        "id": "view-in-github",
        "colab_type": "text"
      },
      "source": [
        "<a href=\"https://colab.research.google.com/github/Boin-Kau/recommender-systems-using-python/blob/main/group_recommender_systems.ipynb\" target=\"_parent\"><img src=\"https://colab.research.google.com/assets/colab-badge.svg\" alt=\"Open In Colab\"/></a>"
      ]
    },
    {
      "cell_type": "code",
      "execution_count": 58,
      "metadata": {
        "id": "cQEsXynjUzBT"
      },
      "outputs": [],
      "source": [
        "import os\n",
        "import pandas as pd\n",
        "\n",
        "base_src = 'drive/MyDrive/RecoSys/Data/recommender_systems_data'\n",
        "# u.user 데이터 불러오기 \n",
        "u_user_src = os.path.join(base_src, 'u.user')\n",
        "u_cols = ['user_id', 'age', 'sex', 'occupation', 'zip_code']\n",
        "users = pd.read_csv(u_user_src, \n",
        "                    sep='|', \n",
        "                    names=u_cols, \n",
        "                    encoding='latin-1')\n",
        "# u.item 데이터 불러오기 \n",
        "u_item_src = os.path.join(base_src, 'u.item')\n",
        "i_cols = ['movie_id','title','release date','video release date',\n",
        "'IMDB URL','unknown','Action','Adventure','Animat ion', 'Children\\'s','Comedy','Crime','Documentary ','Drama','Fantasy',\n",
        "'Film- Noir','Horror','Musical','Mystery','Romance ','Sci-Fi','Thriller','War','Western']\n",
        "movies = pd.read_csv(u_item_src,\n",
        "                     sep='|',\n",
        "                     names=i_cols,\n",
        "                     encoding='latin-1')\n",
        "\n",
        "# u.data 데이터 불러오기\n",
        "u_data_src = os.path.join(base_src, 'u.data')\n",
        "r_cols = ['user_id', 'movie_id', 'rating', 'timestamp']\n",
        "ratings = pd.read_csv(u_data_src,\n",
        "                      sep='\\t',\n",
        "                      names=r_cols,\n",
        "                      encoding='latin-1')\n",
        "\n",
        "# ratings DataFrame에서 timestamp 제거\n",
        "ratings = ratings.drop('timestamp', axis=1)\n",
        "# movies DataFrame에서 movie_id와 title 데이터만 가져오기\n",
        "movies = movies[['movie_id', 'title']]"
      ]
    },
    {
      "cell_type": "code",
      "source": [
        "# 데이터 train, test set 분리\n",
        "from sklearn.model_selection import train_test_split\n",
        "import numpy as np\n",
        "\n",
        "x = ratings.copy()\n",
        "y = ratings['user_id']\n",
        "\n",
        "# training을 75%, testing을 25%로 split\n",
        "# stratify 옵션을 통해 전체 데이터 셋의 분포를 반영하도록 층화추출\n",
        "x_train,x_test,y_train,y_test = train_test_split(x,y,\n",
        "                                                 test_size=0.25,\n",
        "                                                 stratify=y)\n",
        "\n",
        "# 정확도(RMSE)를 계산하는 함수\n",
        "def RMSE(y_true,y_pred):\n",
        "  return np.sqrt(np.mean((np.array(y_true) - np.array(y_pred))**2))\n",
        "\n",
        "# 모델별 RMSE를 계산하는 함수 : testing data set을 사용\n",
        "def score(model):\n",
        "  id_pairs = zip(x_test['user_id'],x_test['movie_id'])\n",
        "  y_pred = np.array([model(user,movie) for (user,movie) in id_pairs])\n",
        "  y_true = np.array(x_test['rating'])\n",
        "  return RMSE(y_true,y_pred)\n",
        "\n",
        "# best-seller 함수를 이용한 정확도 계산 : training data set을 사용\n",
        "train_mean = x_train.groupby(['movie_id'])['rating'].mean()\n",
        "def best_seller(user_id,movie_id):\n",
        "  try:\n",
        "    rating = train_mean[movie_id]\n",
        "  except:\n",
        "    rating = 3.0\n",
        "  return rating\n",
        "\n",
        "score(best_seller)"
      ],
      "metadata": {
        "colab": {
          "base_uri": "https://localhost:8080/"
        },
        "id": "z8Sb3RVLZOgl",
        "outputId": "62167905-d401-43fe-8635-b3cfdf164340"
      },
      "execution_count": 42,
      "outputs": [
        {
          "output_type": "execute_result",
          "data": {
            "text/plain": [
              "1.030796645547913"
            ]
          },
          "metadata": {},
          "execution_count": 42
        }
      ]
    },
    {
      "cell_type": "code",
      "source": [
        "# 두 DataFrame의 공통 Column(user_id)을 기준으로 병합\n",
        "merged_ratings = pd.merge(x_train,users)\n",
        "merged_ratings.head()\n",
        "\n",
        "# 인덱스 설정\n",
        "users = users.set_index('user_id')"
      ],
      "metadata": {
        "colab": {
          "base_uri": "https://localhost:8080/",
          "height": 206
        },
        "id": "91JB8FrTjzCU",
        "outputId": "1f6be8f5-ea5b-40ff-8625-698741c98f39"
      },
      "execution_count": 59,
      "outputs": [
        {
          "output_type": "execute_result",
          "data": {
            "text/plain": [
              "   user_id  movie_id  rating  age sex     occupation zip_code\n",
              "0      422       201       4   26   M  entertainment    94533\n",
              "1      422       286       5   26   M  entertainment    94533\n",
              "2      422       458       3   26   M  entertainment    94533\n",
              "3      422       217       3   26   M  entertainment    94533\n",
              "4      422       250       5   26   M  entertainment    94533"
            ],
            "text/html": [
              "\n",
              "  <div id=\"df-a8be0b8c-724c-49ea-9b49-f46709a63cec\">\n",
              "    <div class=\"colab-df-container\">\n",
              "      <div>\n",
              "<style scoped>\n",
              "    .dataframe tbody tr th:only-of-type {\n",
              "        vertical-align: middle;\n",
              "    }\n",
              "\n",
              "    .dataframe tbody tr th {\n",
              "        vertical-align: top;\n",
              "    }\n",
              "\n",
              "    .dataframe thead th {\n",
              "        text-align: right;\n",
              "    }\n",
              "</style>\n",
              "<table border=\"1\" class=\"dataframe\">\n",
              "  <thead>\n",
              "    <tr style=\"text-align: right;\">\n",
              "      <th></th>\n",
              "      <th>user_id</th>\n",
              "      <th>movie_id</th>\n",
              "      <th>rating</th>\n",
              "      <th>age</th>\n",
              "      <th>sex</th>\n",
              "      <th>occupation</th>\n",
              "      <th>zip_code</th>\n",
              "    </tr>\n",
              "  </thead>\n",
              "  <tbody>\n",
              "    <tr>\n",
              "      <th>0</th>\n",
              "      <td>422</td>\n",
              "      <td>201</td>\n",
              "      <td>4</td>\n",
              "      <td>26</td>\n",
              "      <td>M</td>\n",
              "      <td>entertainment</td>\n",
              "      <td>94533</td>\n",
              "    </tr>\n",
              "    <tr>\n",
              "      <th>1</th>\n",
              "      <td>422</td>\n",
              "      <td>286</td>\n",
              "      <td>5</td>\n",
              "      <td>26</td>\n",
              "      <td>M</td>\n",
              "      <td>entertainment</td>\n",
              "      <td>94533</td>\n",
              "    </tr>\n",
              "    <tr>\n",
              "      <th>2</th>\n",
              "      <td>422</td>\n",
              "      <td>458</td>\n",
              "      <td>3</td>\n",
              "      <td>26</td>\n",
              "      <td>M</td>\n",
              "      <td>entertainment</td>\n",
              "      <td>94533</td>\n",
              "    </tr>\n",
              "    <tr>\n",
              "      <th>3</th>\n",
              "      <td>422</td>\n",
              "      <td>217</td>\n",
              "      <td>3</td>\n",
              "      <td>26</td>\n",
              "      <td>M</td>\n",
              "      <td>entertainment</td>\n",
              "      <td>94533</td>\n",
              "    </tr>\n",
              "    <tr>\n",
              "      <th>4</th>\n",
              "      <td>422</td>\n",
              "      <td>250</td>\n",
              "      <td>5</td>\n",
              "      <td>26</td>\n",
              "      <td>M</td>\n",
              "      <td>entertainment</td>\n",
              "      <td>94533</td>\n",
              "    </tr>\n",
              "  </tbody>\n",
              "</table>\n",
              "</div>\n",
              "      <button class=\"colab-df-convert\" onclick=\"convertToInteractive('df-a8be0b8c-724c-49ea-9b49-f46709a63cec')\"\n",
              "              title=\"Convert this dataframe to an interactive table.\"\n",
              "              style=\"display:none;\">\n",
              "        \n",
              "  <svg xmlns=\"http://www.w3.org/2000/svg\" height=\"24px\"viewBox=\"0 0 24 24\"\n",
              "       width=\"24px\">\n",
              "    <path d=\"M0 0h24v24H0V0z\" fill=\"none\"/>\n",
              "    <path d=\"M18.56 5.44l.94 2.06.94-2.06 2.06-.94-2.06-.94-.94-2.06-.94 2.06-2.06.94zm-11 1L8.5 8.5l.94-2.06 2.06-.94-2.06-.94L8.5 2.5l-.94 2.06-2.06.94zm10 10l.94 2.06.94-2.06 2.06-.94-2.06-.94-.94-2.06-.94 2.06-2.06.94z\"/><path d=\"M17.41 7.96l-1.37-1.37c-.4-.4-.92-.59-1.43-.59-.52 0-1.04.2-1.43.59L10.3 9.45l-7.72 7.72c-.78.78-.78 2.05 0 2.83L4 21.41c.39.39.9.59 1.41.59.51 0 1.02-.2 1.41-.59l7.78-7.78 2.81-2.81c.8-.78.8-2.07 0-2.86zM5.41 20L4 18.59l7.72-7.72 1.47 1.35L5.41 20z\"/>\n",
              "  </svg>\n",
              "      </button>\n",
              "      \n",
              "  <style>\n",
              "    .colab-df-container {\n",
              "      display:flex;\n",
              "      flex-wrap:wrap;\n",
              "      gap: 12px;\n",
              "    }\n",
              "\n",
              "    .colab-df-convert {\n",
              "      background-color: #E8F0FE;\n",
              "      border: none;\n",
              "      border-radius: 50%;\n",
              "      cursor: pointer;\n",
              "      display: none;\n",
              "      fill: #1967D2;\n",
              "      height: 32px;\n",
              "      padding: 0 0 0 0;\n",
              "      width: 32px;\n",
              "    }\n",
              "\n",
              "    .colab-df-convert:hover {\n",
              "      background-color: #E2EBFA;\n",
              "      box-shadow: 0px 1px 2px rgba(60, 64, 67, 0.3), 0px 1px 3px 1px rgba(60, 64, 67, 0.15);\n",
              "      fill: #174EA6;\n",
              "    }\n",
              "\n",
              "    [theme=dark] .colab-df-convert {\n",
              "      background-color: #3B4455;\n",
              "      fill: #D2E3FC;\n",
              "    }\n",
              "\n",
              "    [theme=dark] .colab-df-convert:hover {\n",
              "      background-color: #434B5C;\n",
              "      box-shadow: 0px 1px 3px 1px rgba(0, 0, 0, 0.15);\n",
              "      filter: drop-shadow(0px 1px 2px rgba(0, 0, 0, 0.3));\n",
              "      fill: #FFFFFF;\n",
              "    }\n",
              "  </style>\n",
              "\n",
              "      <script>\n",
              "        const buttonEl =\n",
              "          document.querySelector('#df-a8be0b8c-724c-49ea-9b49-f46709a63cec button.colab-df-convert');\n",
              "        buttonEl.style.display =\n",
              "          google.colab.kernel.accessAllowed ? 'block' : 'none';\n",
              "\n",
              "        async function convertToInteractive(key) {\n",
              "          const element = document.querySelector('#df-a8be0b8c-724c-49ea-9b49-f46709a63cec');\n",
              "          const dataTable =\n",
              "            await google.colab.kernel.invokeFunction('convertToInteractive',\n",
              "                                                     [key], {});\n",
              "          if (!dataTable) return;\n",
              "\n",
              "          const docLinkHtml = 'Like what you see? Visit the ' +\n",
              "            '<a target=\"_blank\" href=https://colab.research.google.com/notebooks/data_table.ipynb>data table notebook</a>'\n",
              "            + ' to learn more about interactive tables.';\n",
              "          element.innerHTML = '';\n",
              "          dataTable['output_type'] = 'display_data';\n",
              "          await google.colab.output.renderOutput(dataTable, element);\n",
              "          const docLink = document.createElement('div');\n",
              "          docLink.innerHTML = docLinkHtml;\n",
              "          element.appendChild(docLink);\n",
              "        }\n",
              "      </script>\n",
              "    </div>\n",
              "  </div>\n",
              "  "
            ]
          },
          "metadata": {},
          "execution_count": 59
        }
      ]
    },
    {
      "cell_type": "code",
      "source": [
        "# 성별에 따른 예측값 계산\n",
        "g_mean = merged_ratings[['movie_id','sex','rating']].groupby(['movie_id','sex'])['rating'].mean()\n",
        "\n",
        "rating_matrix = x_train.pivot(index='user_id', # 행 위치에 들어갈 열\n",
        "                              columns='movie_id', # 열 위치에 들어갈 열\n",
        "                              values='rating') # 데이터로 사용할 열"
      ],
      "metadata": {
        "id": "Fv1Hq3a5f_sr"
      },
      "execution_count": 76,
      "outputs": []
    },
    {
      "cell_type": "code",
      "source": [
        "# Gender 기준 추천\n",
        "def cf_gender(user_id,movie_id):\n",
        "  if movie_id in rating_matrix.columns:\n",
        "    gender = users.loc[user_id]['sex']\n",
        "    if gender in g_mean[movie_id].index:\n",
        "      gender_rating = g_mean[movie_id][gender]\n",
        "    else:\n",
        "      gender_rating = 3.0\n",
        "  else:\n",
        "    gender_rating = 3.0\n",
        "  return gender_rating\n",
        "\n",
        "score(cf_gender)"
      ],
      "metadata": {
        "colab": {
          "base_uri": "https://localhost:8080/"
        },
        "id": "p9IdyTXnmhR-",
        "outputId": "685869a2-f763-4961-8277-22c2eae84036"
      },
      "execution_count": 78,
      "outputs": [
        {
          "output_type": "execute_result",
          "data": {
            "text/plain": [
              "1.0407507592820584"
            ]
          },
          "metadata": {},
          "execution_count": 78
        }
      ]
    }
  ]
}