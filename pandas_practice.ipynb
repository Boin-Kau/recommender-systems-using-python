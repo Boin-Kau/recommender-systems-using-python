{
  "nbformat": 4,
  "nbformat_minor": 0,
  "metadata": {
    "colab": {
      "name": "pandas-practice.ipynb",
      "provenance": [],
      "mount_file_id": "1F-bahx28scamFiR2eXf94DiHJqllDaBq",
      "authorship_tag": "ABX9TyPoz5R10R2xqIj7rFGnVXcS",
      "include_colab_link": true
    },
    "kernelspec": {
      "name": "python3",
      "display_name": "Python 3"
    },
    "language_info": {
      "name": "python"
    }
  },
  "cells": [
    {
      "cell_type": "markdown",
      "metadata": {
        "id": "view-in-github",
        "colab_type": "text"
      },
      "source": [
        "<a href=\"https://colab.research.google.com/github/Boin-Kau/recommender-systems-using-python/blob/main/pandas_practice.ipynb\" target=\"_parent\"><img src=\"https://colab.research.google.com/assets/colab-badge.svg\" alt=\"Open In Colab\"/></a>"
      ]
    },
    {
      "cell_type": "code",
      "execution_count": 2,
      "metadata": {
        "colab": {
          "base_uri": "https://localhost:8080/"
        },
        "id": "IVNPHJ9NQoro",
        "outputId": "390a3345-a76b-4076-9854-bd96f4d81416"
      },
      "outputs": [
        {
          "output_type": "execute_result",
          "data": {
            "text/plain": [
              "['wc_result1.png',\n",
              " 'new_friend.csv',\n",
              " 'crawlings__210510.log',\n",
              " 'friend.csv',\n",
              " 'new_friend_index_true.csv',\n",
              " 'abalone.data',\n",
              " 'Naver_opinion.txt',\n",
              " 'dolphine.jpg',\n",
              " 'wc_result.png',\n",
              " 'test_csv.txt']"
            ]
          },
          "metadata": {},
          "execution_count": 2
        }
      ],
      "source": [
        "import os\n",
        "import pandas as pd\n",
        "\n",
        "os.listdir('./drive/MyDrive/RecoSys/Data/machine_learning_data')\n",
        "\n",
        "#수정사항 확인\n",
        "#커밋체크"
      ]
    }
  ]
}